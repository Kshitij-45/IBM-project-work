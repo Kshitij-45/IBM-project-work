{
 "cells": [
  {
   "cell_type": "markdown",
   "metadata": {},
   "source": [
    "<center>\n",
    "    <img src=\"https://cf-courses-data.s3.us.cloud-object-storage.appdomain.cloud/IBMDeveloperSkillsNetwork-DS0105EN-SkillsNetwork/labs/Module2/images/SN_web_lightmode.png\" width=\"300\" alt=\"cognitiveclass.ai logo\">\n",
    "</center>\n"
   ]
  },
  {
   "cell_type": "markdown",
   "metadata": {},
   "source": [
    "#### Add your code below following the instructions given in the course\n"
   ]
  },
  {
   "cell_type": "markdown",
   "metadata": {},
   "source": [
    "#Data Science Tools and Ecosystem"
   ]
  },
  {
   "cell_type": "markdown",
   "metadata": {},
   "source": [
    "#Data Science Tools and Ecosystem are summarized.\n",
    "Data science thrives on a rich ecosystem of tools and technologies that facilitate the entire data analysis lifecycle. Here's a summary of the key categories within this ecosystem:\n",
    "\n",
    "1. Programming Languages:\n",
    "\n",
    "Python\n",
    "R\n",
    "2. Data Management and Storage:\n",
    "\n",
    "Databases\n",
    "Cloud Storage\n",
    "Data Warehouses\n",
    "3. Data Analysis and Manipulation:\n",
    "\n",
    "NumPy\n",
    "Pandas\n",
    "Scikit-learn\n",
    "4. Machine Learning and Deep Learning:\n",
    "\n",
    "TensorFlow\n",
    "PyTorch\n",
    "Keras\n",
    "5. Data Visualization:\n",
    "\n",
    "Matplotlib\n",
    "Seaborn\n",
    "Plotly"
   ]
  },
  {
   "cell_type": "markdown",
   "metadata": {},
   "source": [
    "#Some of the popular languages that Data Scientists use are:\n",
    "1)Python\n",
    "2)R\n",
    "3)Java,C++"
   ]
  },
  {
   "cell_type": "markdown",
   "metadata": {},
   "source": [
    "#Some of the commonly used libraries used by Data Scientists include:\n",
    "1)Numpy\n",
    "2)Pandas\n",
    "3)Matplotlib\n",
    "4)seaborn"
   ]
  },
  {
   "cell_type": "markdown",
   "metadata": {},
   "source": [
    "|Data Science Tools|\n",
    "|------------------|\n",
    "|Jupyter Notebook|\n",
    "|Rstudio|\n",
    "|Visual Studio Code|"
   ]
  },
  {
   "cell_type": "code",
   "execution_count": null,
   "metadata": {},
   "outputs": [],
   "source": []
  }
 ],
 "metadata": {
  "kernelspec": {
   "display_name": "Python",
   "language": "python",
   "name": "conda-env-python-py"
  },
  "language_info": {
   "codemirror_mode": {
    "name": "ipython",
    "version": 3
   },
   "file_extension": ".py",
   "mimetype": "text/x-python",
   "name": "python",
   "nbconvert_exporter": "python",
   "pygments_lexer": "ipython3",
   "version": "3.7.12"
  }
 },
 "nbformat": 4,
 "nbformat_minor": 4
}
